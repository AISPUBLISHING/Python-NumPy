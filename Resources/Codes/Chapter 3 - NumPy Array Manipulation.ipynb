{
 "cells": [
  {
   "cell_type": "markdown",
   "metadata": {},
   "source": [
    "## 3.1. Sorting NumPy Arrays "
   ]
  },
  {
   "cell_type": "markdown",
   "metadata": {},
   "source": [
    "### 3.1.1. Soring Numeric Arrays"
   ]
  },
  {
   "cell_type": "code",
   "execution_count": 1,
   "metadata": {},
   "outputs": [
    {
     "name": "stdout",
     "output_type": "stream",
     "text": [
      "unsorted array\n",
      "[17  9  5  2 12 16  8 12 12  7]\n",
      "\n",
      "sorted array\n",
      "[ 2  5  7  8  9 12 12 12 16 17]\n"
     ]
    }
   ],
   "source": [
    "import numpy as np\n",
    "\n",
    "print(\"unsorted array\")\n",
    "my_array = np.random.randint(1,20,10)\n",
    "print(my_array)\n",
    "\n",
    "print(\"\\nsorted array\")\n",
    "sorted_array = np.sort(my_array)\n",
    "print(sorted_array)"
   ]
  },
  {
   "cell_type": "markdown",
   "metadata": {},
   "source": [
    "### 3.1.2. Sorting Text Arrays"
   ]
  },
  {
   "cell_type": "code",
   "execution_count": 2,
   "metadata": {},
   "outputs": [
    {
     "name": "stdout",
     "output_type": "stream",
     "text": [
      "unsorted array\n",
      "['Red' 'Green' 'Blue' 'Yello']\n",
      "\n",
      "sorted array\n",
      "['Blue' 'Green' 'Red' 'Yello']\n"
     ]
    }
   ],
   "source": [
    "import numpy as np\n",
    "\n",
    "print(\"unsorted array\")\n",
    "my_array = np.array([\"Red\", \"Green\", \"Blue\", \"Yello\"])\n",
    "print(my_array)\n",
    "\n",
    "print(\"\\nsorted array\")\n",
    "sorted_array = np.sort(my_array)\n",
    "print(sorted_array)"
   ]
  },
  {
   "cell_type": "markdown",
   "metadata": {},
   "source": [
    "### 3.1.3. Sorting Boolean Arrays"
   ]
  },
  {
   "cell_type": "code",
   "execution_count": 3,
   "metadata": {},
   "outputs": [
    {
     "name": "stdout",
     "output_type": "stream",
     "text": [
      "unsorted array\n",
      "[False  True  True False False  True False  True]\n",
      "\n",
      "Sorted array\n",
      "[False False False False  True  True  True  True]\n"
     ]
    }
   ],
   "source": [
    "import numpy as np\n",
    "\n",
    "print(\"unsorted array\")\n",
    "my_array = np.array([False, True, True, False, False, True, False, True])\n",
    "print(my_array)\n",
    "\n",
    "print(\"\\nSorted array\")\n",
    "sorted_array = np.sort(my_array)\n",
    "print(sorted_array)"
   ]
  },
  {
   "cell_type": "markdown",
   "metadata": {},
   "source": [
    "### 3.1.4. Sorting 2-D Arrays"
   ]
  },
  {
   "cell_type": "code",
   "execution_count": 32,
   "metadata": {},
   "outputs": [
    {
     "name": "stdout",
     "output_type": "stream",
     "text": [
      "unsorted array\n",
      "[[13 12 12 14 16  6]\n",
      " [ 7 18  1  2  4  2]\n",
      " [ 4 14 16 11  1 12]\n",
      " [ 8  9  9 15  2  9]]\n",
      "Sorted array\n",
      "[[ 6 12 12 13 14 16]\n",
      " [ 1  2  2  4  7 18]\n",
      " [ 1  4 11 12 14 16]\n",
      " [ 2  8  9  9  9 15]]\n"
     ]
    }
   ],
   "source": [
    "import numpy as np\n",
    "\n",
    "print(\"unsorted array\")\n",
    "my_array = np.random.randint(1,20, size = (4,6))\n",
    "print(my_array)\n",
    "\n",
    "print(\"Sorted array\")\n",
    "sorted_array = np.sort(my_array)\n",
    "print(sorted_array)"
   ]
  },
  {
   "cell_type": "markdown",
   "metadata": {},
   "source": [
    "### 3.1.5. Sorting in Descending Order"
   ]
  },
  {
   "cell_type": "code",
   "execution_count": 5,
   "metadata": {},
   "outputs": [
    {
     "name": "stdout",
     "output_type": "stream",
     "text": [
      "unsorted array\n",
      "[15 18 16  3  2  1  4 16  2  3]\n",
      "\n",
      "sorted array\n",
      "[18 16 16 15  4  3  3  2  2  1]\n"
     ]
    }
   ],
   "source": [
    "import numpy as np\n",
    "\n",
    "print(\"unsorted array\")\n",
    "my_array = np.random.randint(1,20,10)\n",
    "print(my_array)\n",
    "\n",
    "print(\"\\nsorted array\")\n",
    "sorted_array = np.sort(my_array)\n",
    "reverse_sorted = np.flipud(sorted_array)\n",
    "print(reverse_sorted)"
   ]
  },
  {
   "cell_type": "markdown",
   "metadata": {},
   "source": [
    "## 3.2. Reshaping NumPy Arrays"
   ]
  },
  {
   "cell_type": "markdown",
   "metadata": {},
   "source": [
    "### 3.2.1. Reshaping from Lower to Higher Dimensions"
   ]
  },
  {
   "cell_type": "code",
   "execution_count": 6,
   "metadata": {},
   "outputs": [
    {
     "name": "stdout",
     "output_type": "stream",
     "text": [
      "one-dimensional array\n",
      "[ 4 14 12 17 18 17  2 19 18 11]\n",
      "\n",
      "two-dimensional array\n",
      "[[ 4 14 12 17 18]\n",
      " [17  2 19 18 11]]\n"
     ]
    }
   ],
   "source": [
    "import numpy as np\n",
    "\n",
    "print(\"one-dimensional array\")\n",
    "one_d_array = np.random.randint(1,20,10)\n",
    "print(one_d_array)\n",
    "\n",
    "print(\"\\ntwo-dimensional array\")\n",
    "two_d_array = one_d_array.reshape(2,5)\n",
    "print(two_d_array)"
   ]
  },
  {
   "cell_type": "code",
   "execution_count": 7,
   "metadata": {},
   "outputs": [
    {
     "name": "stdout",
     "output_type": "stream",
     "text": [
      "one-dimensional array\n",
      "[ 9 17 19 16  8 15  6  6 13 17]\n",
      "\n",
      "two-dimensional array\n",
      "[[ 9 17 19 16  8]\n",
      " [15  6  6 13 17]]\n"
     ]
    }
   ],
   "source": [
    "import numpy as np\n",
    "\n",
    "print(\"one-dimensional array\")\n",
    "one_d_array = np.random.randint(1,20,10)\n",
    "print(one_d_array)\n",
    "\n",
    "print(\"\\ntwo-dimensional array\")\n",
    "two_d_array = np.reshape(one_d_array,(2,5))\n",
    "print(two_d_array)"
   ]
  },
  {
   "cell_type": "code",
   "execution_count": 8,
   "metadata": {},
   "outputs": [
    {
     "name": "stdout",
     "output_type": "stream",
     "text": [
      "two-dimensional array\n",
      "[ 9 17 19 16  8 15  6  6 13 17]\n",
      "\n",
      "three-dimensional array\n",
      "[[17 17  3 11  9  5]\n",
      " [ 6 18  7  5 14  7]\n",
      " [14  5  4  9 11  1]\n",
      " [16  8  9  7 16 16]]\n"
     ]
    }
   ],
   "source": [
    "import numpy as np\n",
    "\n",
    "print(\"two-dimensional array\")\n",
    "two_d_array = np.random.randint(1,20, size = (4,6))\n",
    "print(one_d_array)\n",
    "\n",
    "print(\"\\nthree-dimensional array\")\n",
    "three_d_array = np.reshape(two_d_array,(3,4,2))\n",
    "print(two_d_array)"
   ]
  },
  {
   "cell_type": "code",
   "execution_count": 31,
   "metadata": {},
   "outputs": [
    {
     "name": "stdout",
     "output_type": "stream",
     "text": [
      "two-dimensional array\n",
      "[14  2  2 18 19  4 16  3 14  6  5 15  3 16 10 14 14  8 12 15  1  5 16 11\n",
      "  9  5  1 12 13  8  5 11 18 10 19  5 13  1  8  6 19  3 19  1  6 15 12  3]\n",
      "\n",
      "three-dimensional array\n"
     ]
    },
    {
     "ename": "ValueError",
     "evalue": "cannot reshape array of size 24 into shape (1,4,2)",
     "output_type": "error",
     "traceback": [
      "\u001b[1;31m---------------------------------------------------------------------------\u001b[0m",
      "\u001b[1;31mValueError\u001b[0m                                Traceback (most recent call last)",
      "\u001b[1;32m<ipython-input-31-26262dc58686>\u001b[0m in \u001b[0;36m<module>\u001b[1;34m\u001b[0m\n\u001b[0;32m      6\u001b[0m \u001b[1;33m\u001b[0m\u001b[0m\n\u001b[0;32m      7\u001b[0m \u001b[0mprint\u001b[0m\u001b[1;33m(\u001b[0m\u001b[1;34m\"\\nthree-dimensional array\"\u001b[0m\u001b[1;33m)\u001b[0m\u001b[1;33m\u001b[0m\u001b[1;33m\u001b[0m\u001b[0m\n\u001b[1;32m----> 8\u001b[1;33m \u001b[0mthree_d_array\u001b[0m \u001b[1;33m=\u001b[0m \u001b[0mnp\u001b[0m\u001b[1;33m.\u001b[0m\u001b[0mreshape\u001b[0m\u001b[1;33m(\u001b[0m\u001b[0mtwo_d_array\u001b[0m\u001b[1;33m,\u001b[0m\u001b[1;33m(\u001b[0m\u001b[1;36m1\u001b[0m\u001b[1;33m,\u001b[0m\u001b[1;36m4\u001b[0m\u001b[1;33m,\u001b[0m\u001b[1;36m2\u001b[0m\u001b[1;33m)\u001b[0m\u001b[1;33m)\u001b[0m\u001b[1;33m\u001b[0m\u001b[1;33m\u001b[0m\u001b[0m\n\u001b[0m\u001b[0;32m      9\u001b[0m \u001b[0mprint\u001b[0m\u001b[1;33m(\u001b[0m\u001b[0mtwo_d_array\u001b[0m\u001b[1;33m)\u001b[0m\u001b[1;33m\u001b[0m\u001b[1;33m\u001b[0m\u001b[0m\n",
      "\u001b[1;32m<__array_function__ internals>\u001b[0m in \u001b[0;36mreshape\u001b[1;34m(*args, **kwargs)\u001b[0m\n",
      "\u001b[1;32m~\\anaconda3\\lib\\site-packages\\numpy\\core\\fromnumeric.py\u001b[0m in \u001b[0;36mreshape\u001b[1;34m(a, newshape, order)\u001b[0m\n\u001b[0;32m    297\u001b[0m            [5, 6]])\n\u001b[0;32m    298\u001b[0m     \"\"\"\n\u001b[1;32m--> 299\u001b[1;33m     \u001b[1;32mreturn\u001b[0m \u001b[0m_wrapfunc\u001b[0m\u001b[1;33m(\u001b[0m\u001b[0ma\u001b[0m\u001b[1;33m,\u001b[0m \u001b[1;34m'reshape'\u001b[0m\u001b[1;33m,\u001b[0m \u001b[0mnewshape\u001b[0m\u001b[1;33m,\u001b[0m \u001b[0morder\u001b[0m\u001b[1;33m=\u001b[0m\u001b[0morder\u001b[0m\u001b[1;33m)\u001b[0m\u001b[1;33m\u001b[0m\u001b[1;33m\u001b[0m\u001b[0m\n\u001b[0m\u001b[0;32m    300\u001b[0m \u001b[1;33m\u001b[0m\u001b[0m\n\u001b[0;32m    301\u001b[0m \u001b[1;33m\u001b[0m\u001b[0m\n",
      "\u001b[1;32m~\\anaconda3\\lib\\site-packages\\numpy\\core\\fromnumeric.py\u001b[0m in \u001b[0;36m_wrapfunc\u001b[1;34m(obj, method, *args, **kwds)\u001b[0m\n\u001b[0;32m     56\u001b[0m \u001b[1;33m\u001b[0m\u001b[0m\n\u001b[0;32m     57\u001b[0m     \u001b[1;32mtry\u001b[0m\u001b[1;33m:\u001b[0m\u001b[1;33m\u001b[0m\u001b[1;33m\u001b[0m\u001b[0m\n\u001b[1;32m---> 58\u001b[1;33m         \u001b[1;32mreturn\u001b[0m \u001b[0mbound\u001b[0m\u001b[1;33m(\u001b[0m\u001b[1;33m*\u001b[0m\u001b[0margs\u001b[0m\u001b[1;33m,\u001b[0m \u001b[1;33m**\u001b[0m\u001b[0mkwds\u001b[0m\u001b[1;33m)\u001b[0m\u001b[1;33m\u001b[0m\u001b[1;33m\u001b[0m\u001b[0m\n\u001b[0m\u001b[0;32m     59\u001b[0m     \u001b[1;32mexcept\u001b[0m \u001b[0mTypeError\u001b[0m\u001b[1;33m:\u001b[0m\u001b[1;33m\u001b[0m\u001b[1;33m\u001b[0m\u001b[0m\n\u001b[0;32m     60\u001b[0m         \u001b[1;31m# A TypeError occurs if the object does have such a method in its\u001b[0m\u001b[1;33m\u001b[0m\u001b[1;33m\u001b[0m\u001b[1;33m\u001b[0m\u001b[0m\n",
      "\u001b[1;31mValueError\u001b[0m: cannot reshape array of size 24 into shape (1,4,2)"
     ]
    }
   ],
   "source": [
    "import numpy as np\n",
    "\n",
    "print(\"two-dimensional array\")\n",
    "two_d_array = np.random.randint(1,20, size = (4,6))\n",
    "print(one_d_array)\n",
    "\n",
    "print(\"\\nthree-dimensional array\")\n",
    "three_d_array = np.reshape(two_d_array,(1,4,2))\n",
    "print(two_d_array)"
   ]
  },
  {
   "cell_type": "markdown",
   "metadata": {},
   "source": [
    "### 3.2.2. Reshaping Higher Dimensions To Lower Dimensions"
   ]
  },
  {
   "cell_type": "code",
   "execution_count": 9,
   "metadata": {},
   "outputs": [
    {
     "name": "stdout",
     "output_type": "stream",
     "text": [
      "two-dimensional array\n",
      "[[ 6  6 15  3 11 14]\n",
      " [14  4  8 17 10  6]\n",
      " [ 5 14  3  5 15 14]\n",
      " [12  3 15 15  5 16]]\n",
      "\n",
      "one-dimensional array\n",
      "[ 6  6 15  3 11 14 14  4  8 17 10  6  5 14  3  5 15 14 12  3 15 15  5 16]\n"
     ]
    }
   ],
   "source": [
    "import numpy as np\n",
    "\n",
    "print(\"two-dimensional array\")\n",
    "two_d_array = np.random.randint(1,20, size = (4,6))\n",
    "print(two_d_array)\n",
    "\n",
    "print(\"\\none-dimensional array\")\n",
    "one_d_array = two_d_array.reshape(24)\n",
    "print(one_d_array)"
   ]
  },
  {
   "cell_type": "code",
   "execution_count": 10,
   "metadata": {},
   "outputs": [
    {
     "name": "stdout",
     "output_type": "stream",
     "text": [
      "two-dimensional array\n",
      "[[ 5 10 10 11 18 12]\n",
      " [12  3  4  7  5  2]\n",
      " [ 5 11  3  6 19  9]\n",
      " [16  2  7  6  4  4]]\n",
      "\n",
      "one-dimensional array\n",
      "[ 5 10 10 11 18 12 12  3  4  7  5  2  5 11  3  6 19  9 16  2  7  6  4  4]\n"
     ]
    }
   ],
   "source": [
    "import numpy as np\n",
    "\n",
    "print(\"two-dimensional array\")\n",
    "two_d_array = np.random.randint(1,20, size = (4,6))\n",
    "print(two_d_array)\n",
    "\n",
    "print(\"\\none-dimensional array\")\n",
    "one_d_array = two_d_array.reshape(-1)\n",
    "print(one_d_array)"
   ]
  },
  {
   "cell_type": "code",
   "execution_count": 11,
   "metadata": {},
   "outputs": [
    {
     "name": "stdout",
     "output_type": "stream",
     "text": [
      "two-dimensional array\n",
      "[[[14  2  2 18 19  4]\n",
      "  [16  3 14  6  5 15]]\n",
      "\n",
      " [[ 3 16 10 14 14  8]\n",
      "  [12 15  1  5 16 11]]\n",
      "\n",
      " [[ 9  5  1 12 13  8]\n",
      "  [ 5 11 18 10 19  5]]\n",
      "\n",
      " [[13  1  8  6 19  3]\n",
      "  [19  1  6 15 12  3]]]\n",
      "\n",
      "on-dimensional array\n",
      "[14  2  2 18 19  4 16  3 14  6  5 15  3 16 10 14 14  8 12 15  1  5 16 11\n",
      "  9  5  1 12 13  8  5 11 18 10 19  5 13  1  8  6 19  3 19  1  6 15 12  3]\n"
     ]
    }
   ],
   "source": [
    "import numpy as np\n",
    "\n",
    "print(\"two-dimensional array\")\n",
    "three_d_array = np.random.randint(1,20, size = (4,2,6))\n",
    "print(three_d_array )\n",
    "\n",
    "print(\"\\non-dimensional array\")\n",
    "one_d_array = three_d_array .reshape(-1)\n",
    "print(one_d_array)"
   ]
  },
  {
   "cell_type": "markdown",
   "metadata": {},
   "source": [
    "## 3.3. Array Indexing and Slicing"
   ]
  },
  {
   "cell_type": "code",
   "execution_count": 12,
   "metadata": {},
   "outputs": [
    {
     "name": "stdout",
     "output_type": "stream",
     "text": [
      "[ 1  2  3  4  5  6  7  8  9 10]\n"
     ]
    }
   ],
   "source": [
    "import numpy as np\n",
    "s = np.arange(1,11)  \n",
    "print(s) \n"
   ]
  },
  {
   "cell_type": "code",
   "execution_count": 13,
   "metadata": {},
   "outputs": [
    {
     "name": "stdout",
     "output_type": "stream",
     "text": [
      "2\n"
     ]
    }
   ],
   "source": [
    "print(s[1])  "
   ]
  },
  {
   "cell_type": "code",
   "execution_count": 14,
   "metadata": {},
   "outputs": [
    {
     "name": "stdout",
     "output_type": "stream",
     "text": [
      "[2 3 4 5 6 7 8 9]\n"
     ]
    }
   ],
   "source": [
    "print(s[1:9])  "
   ]
  },
  {
   "cell_type": "code",
   "execution_count": 15,
   "metadata": {},
   "outputs": [
    {
     "name": "stdout",
     "output_type": "stream",
     "text": [
      "[1 2 3 4 5]\n",
      "[ 6  7  8  9 10]\n"
     ]
    }
   ],
   "source": [
    "print(s[:5])  \n",
    "print(s[5:])  "
   ]
  },
  {
   "cell_type": "code",
   "execution_count": 16,
   "metadata": {},
   "outputs": [
    {
     "name": "stdout",
     "output_type": "stream",
     "text": [
      "[[10 12 13]\n",
      " [45 32 16]]\n"
     ]
    }
   ],
   "source": [
    "row1 = [10,12,13]  \n",
    "row2 = [45,32,16]  \n",
    "row3 = [45,32,16]  \n",
    "  \n",
    "nums_2d = np.array([row1, row2, row3])  \n",
    "print(nums_2d[:2,:])   "
   ]
  },
  {
   "cell_type": "code",
   "execution_count": 17,
   "metadata": {},
   "outputs": [
    {
     "name": "stdout",
     "output_type": "stream",
     "text": [
      "[[10 12]\n",
      " [45 32]\n",
      " [45 32]]\n"
     ]
    }
   ],
   "source": [
    "row1 = [10,12,13]  \n",
    "row2 = [45,32,16]  \n",
    "row3 = [45,32,16]  \n",
    " \n",
    "nums_2d = np.array([row1, row2, row3])  \n",
    "\n",
    "print(nums_2d[:,:2])   "
   ]
  },
  {
   "cell_type": "code",
   "execution_count": 18,
   "metadata": {},
   "outputs": [
    {
     "name": "stdout",
     "output_type": "stream",
     "text": [
      "[[32 16]\n",
      " [32 16]]\n"
     ]
    }
   ],
   "source": [
    "row1 = [10,12,13]  \n",
    "row2 = [45,32,16]  \n",
    "row3 = [45,32,16]  \n",
    " \n",
    "nums_2d = np.array([row1, row2, row3])  \n",
    "print(nums_2d[1:,1:]) \n"
   ]
  },
  {
   "cell_type": "markdown",
   "metadata": {},
   "source": [
    "## 3.4. Broadcasting NumPy Arrays"
   ]
  },
  {
   "cell_type": "code",
   "execution_count": 19,
   "metadata": {},
   "outputs": [
    {
     "name": "stdout",
     "output_type": "stream",
     "text": [
      "[24 35 41]\n"
     ]
    }
   ],
   "source": [
    "import numpy as np\n",
    "\n",
    "array1 = np.array ([14,25,31])\n",
    "array2 = np.array([10])\n",
    "result = array1 + array2 \n",
    "print(result)"
   ]
  },
  {
   "cell_type": "code",
   "execution_count": 20,
   "metadata": {},
   "outputs": [
    {
     "name": "stdout",
     "output_type": "stream",
     "text": [
      "[[ 2 11 16 19]\n",
      " [14 15 13 19]\n",
      " [ 9  6 18  4]]\n",
      "after bradcasting\n",
      "[[12 21 26 29]\n",
      " [24 25 23 29]\n",
      " [19 16 28 14]]\n"
     ]
    }
   ],
   "source": [
    "\n",
    "array1 = np.random.randint(1,20, size = (3,4))\n",
    "print(array1)\n",
    "\n",
    "array2 = np.array([10])\n",
    "\n",
    "print(\"after bradcasting\")\n",
    "result = array1 + array2 \n",
    "print(result)"
   ]
  },
  {
   "cell_type": "code",
   "execution_count": 21,
   "metadata": {},
   "outputs": [
    {
     "name": "stdout",
     "output_type": "stream",
     "text": [
      "[[ 4  6  1  2]\n",
      " [19  2 16  7]\n",
      " [19  7 19  6]]\n",
      "after bradcasting\n",
      "[[ 9 16 21 27]\n",
      " [24 12 36 32]\n",
      " [24 17 39 31]]\n"
     ]
    }
   ],
   "source": [
    "\n",
    "array1 = np.random.randint(1,20, size = (3,4))\n",
    "print(array1)\n",
    "\n",
    "array2 = np.array([5,10,20,25])\n",
    "\n",
    "print(\"after bradcasting\")\n",
    "result = array1 + array2 \n",
    "print(result)"
   ]
  },
  {
   "cell_type": "code",
   "execution_count": 22,
   "metadata": {},
   "outputs": [
    {
     "name": "stdout",
     "output_type": "stream",
     "text": [
      "[[10 17  7  3]\n",
      " [19  9 14 17]\n",
      " [11 15 11 10]]\n",
      "after bradcasting\n",
      "[[15 22 12  8]\n",
      " [29 19 24 27]\n",
      " [31 35 31 30]]\n"
     ]
    }
   ],
   "source": [
    "array1 = np.random.randint(1,20, size = (3,4))\n",
    "print(array1)\n",
    "\n",
    "array2 = np.array([[5],[10],[20]])\n",
    "\n",
    "print(\"after bradcasting\")\n",
    "result = array1 + array2 \n",
    "print(result)"
   ]
  },
  {
   "cell_type": "markdown",
   "metadata": {},
   "source": [
    "## 3.5. Copying NumPy Arrays"
   ]
  },
  {
   "cell_type": "code",
   "execution_count": 23,
   "metadata": {},
   "outputs": [
    {
     "name": "stdout",
     "output_type": "stream",
     "text": [
      "[10 12 14 16 18 20]\n",
      "[10 20 14 16 18 20]\n"
     ]
    }
   ],
   "source": [
    "import numpy as np\n",
    "array1 = np.array([10,12,14,16,18,20])\n",
    "\n",
    "array2 = array1.copy()\n",
    "array2[1] = 20\n",
    "\n",
    "print(array1)\n",
    "print(array2)"
   ]
  },
  {
   "cell_type": "code",
   "execution_count": 24,
   "metadata": {},
   "outputs": [
    {
     "name": "stdout",
     "output_type": "stream",
     "text": [
      "[10 12 14 16 18 20]\n",
      "[10 20 14 16 18 20]\n"
     ]
    }
   ],
   "source": [
    "array1 = np.array([10,12,14,16,18,20])\n",
    "\n",
    "array2 = np.copy(array1)\n",
    "array2[1] = 20\n",
    "\n",
    "print(array1)\n",
    "print(array2)"
   ]
  },
  {
   "cell_type": "code",
   "execution_count": 25,
   "metadata": {},
   "outputs": [
    {
     "name": "stdout",
     "output_type": "stream",
     "text": [
      "[10 20 14 16 18 20]\n",
      "[10 20 14 16 18 20]\n"
     ]
    }
   ],
   "source": [
    "array1 = np.array([10,12,14,16,18,20])\n",
    "\n",
    "array2 = array1.view()\n",
    "array2[1] = 20\n",
    "\n",
    "print(array1)\n",
    "print(array2)"
   ]
  },
  {
   "cell_type": "markdown",
   "metadata": {},
   "source": [
    "## 3.6. NumPy I/O Operations"
   ]
  },
  {
   "cell_type": "markdown",
   "metadata": {},
   "source": [
    "### 3.6.1. Saving a NumPy Array"
   ]
  },
  {
   "cell_type": "code",
   "execution_count": 26,
   "metadata": {},
   "outputs": [],
   "source": [
    "import numpy as np\n",
    "array1 = np.array([10,12,14,16,18,20])\n",
    "\n",
    "np.save(\"D:\\Datasets\\my_array\", array1)"
   ]
  },
  {
   "cell_type": "code",
   "execution_count": 27,
   "metadata": {},
   "outputs": [],
   "source": [
    "import numpy as np\n",
    "array1 = np.array([10,12,14,16,18,20])\n",
    "\n",
    "np.savetxt(\"D:\\Datasets\\my_array.txt\", array1)"
   ]
  },
  {
   "cell_type": "markdown",
   "metadata": {},
   "source": [
    "### 3.6.2. Loading a NumPy Array"
   ]
  },
  {
   "cell_type": "code",
   "execution_count": 28,
   "metadata": {},
   "outputs": [
    {
     "name": "stdout",
     "output_type": "stream",
     "text": [
      "[10 12 14 16 18 20]\n"
     ]
    }
   ],
   "source": [
    "import numpy as np\n",
    "loaded_array = np.load(\"D:\\Datasets\\my_array.npy\")\n",
    "print(loaded_array)"
   ]
  },
  {
   "cell_type": "code",
   "execution_count": 29,
   "metadata": {},
   "outputs": [
    {
     "name": "stdout",
     "output_type": "stream",
     "text": [
      "[10. 12. 14. 16. 18. 20.]\n"
     ]
    }
   ],
   "source": [
    "import numpy as np\n",
    "loaded_array = np.loadtxt(\"D:\\Datasets\\my_array.txt\")\n",
    "print(loaded_array)"
   ]
  },
  {
   "cell_type": "markdown",
   "metadata": {},
   "source": [
    "## Exercise 3.1"
   ]
  },
  {
   "cell_type": "markdown",
   "metadata": {},
   "source": [
    "\n",
    "**Question 1:**\n",
    "\n",
    "Which function is used to convert a multi-dimensional NumPy array into a flat array of 1-dimension?\n",
    "\n",
    "A- np.reshape(0)\n",
    "\n",
    "B- np.reshape(-1)\n",
    "\n",
    "C- np.reshape(1)\n",
    "\n",
    "D- None of the Above\n",
    "\n",
    "Answer: B\n",
    "\n",
    "\n",
    "**Question 2:**\n",
    "\n",
    "Which function is used to save a NumPy array in text format?\n",
    "\n",
    "A- np.savetext()\n",
    "\n",
    "B- np.saveText()\n",
    "\n",
    "C- np.saveTxt()\n",
    "\n",
    "D- np.savetxt()\n",
    "\n",
    "Answer: D\n",
    "\n",
    "\n",
    "**Question 3:**\n",
    "\n",
    "To sort a NumPy array in descending order, you can use the following function:\n",
    "\n",
    "A- np.flipud(np.sort(my_array))\n",
    "\n",
    "B- np.sort(np.flip(my_array))\n",
    "\n",
    "C- np.sort()\n",
    "\n",
    "D- np.flip()\n",
    "\n",
    "Answer: A"
   ]
  },
  {
   "cell_type": "markdown",
   "metadata": {},
   "source": [
    "## Exercise 3.2"
   ]
  },
  {
   "cell_type": "markdown",
   "metadata": {},
   "source": [
    "Create a random NumPy array of 4 rows and 5 columns. Using array indexing and slicing, display the items from row 3 to end and column 2 to end.\n",
    "\n",
    "**Solution:**"
   ]
  },
  {
   "cell_type": "code",
   "execution_count": 30,
   "metadata": {},
   "outputs": [
    {
     "name": "stdout",
     "output_type": "stream",
     "text": [
      "[[0.85857741 0.88078705 0.89522148 0.34468533 0.96228498]\n",
      " [0.18203911 0.596476   0.11543116 0.65926056 0.32393406]\n",
      " [0.8753794  0.11287922 0.40874252 0.26130304 0.21163474]\n",
      " [0.95970259 0.65384791 0.31048958 0.10952554 0.86016743]]\n",
      "Result\n",
      "[[0.11287922 0.40874252 0.26130304 0.21163474]\n",
      " [0.65384791 0.31048958 0.10952554 0.86016743]]\n"
     ]
    }
   ],
   "source": [
    "uniform_random = np.random.rand(4, 5)\n",
    "print(uniform_random)\n",
    "print(\"Result\")\n",
    "print(uniform_random[2:,1:])"
   ]
  },
  {
   "cell_type": "code",
   "execution_count": null,
   "metadata": {},
   "outputs": [],
   "source": []
  }
 ],
 "metadata": {
  "kernelspec": {
   "display_name": "Python 3",
   "language": "python",
   "name": "python3"
  },
  "language_info": {
   "codemirror_mode": {
    "name": "ipython",
    "version": 3
   },
   "file_extension": ".py",
   "mimetype": "text/x-python",
   "name": "python",
   "nbconvert_exporter": "python",
   "pygments_lexer": "ipython3",
   "version": "3.8.5"
  }
 },
 "nbformat": 4,
 "nbformat_minor": 4
}
