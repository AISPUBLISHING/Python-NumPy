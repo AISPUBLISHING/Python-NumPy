{
 "cells": [
  {
   "cell_type": "markdown",
   "metadata": {},
   "source": [
    "## 4.1. Statistical Operations with NumPy"
   ]
  },
  {
   "cell_type": "markdown",
   "metadata": {},
   "source": [
    "### 4.1.1. Finding Mean "
   ]
  },
  {
   "cell_type": "code",
   "execution_count": 1,
   "metadata": {},
   "outputs": [
    {
     "name": "stdout",
     "output_type": "stream",
     "text": [
      "[ 2  4  8 10 12]\n",
      "mean:\n",
      "7.2\n"
     ]
    }
   ],
   "source": [
    "import numpy as np\n",
    "\n",
    "my_array = np.array([2,4,8,10,12])\n",
    "print(my_array)\n",
    "print(\"mean:\")\n",
    "print(np.mean(my_array))\n"
   ]
  },
  {
   "cell_type": "code",
   "execution_count": 2,
   "metadata": {},
   "outputs": [
    {
     "name": "stdout",
     "output_type": "stream",
     "text": [
      "[[10 13 18]\n",
      " [19 18  1]]\n",
      "mean:\n",
      "[13.66666667 12.66666667]\n",
      "[14.5 15.5  9.5]\n"
     ]
    }
   ],
   "source": [
    "import numpy as np\n",
    "\n",
    "my_array = np.random.randint(1,20, size = (2,3))\n",
    "print(my_array)\n",
    "print(\"mean:\")\n",
    "print(np.mean(my_array, axis = 1))\n",
    "print(np.mean(my_array, axis = 0))"
   ]
  },
  {
   "cell_type": "markdown",
   "metadata": {},
   "source": [
    "### 4.1.2. Finding Median "
   ]
  },
  {
   "cell_type": "code",
   "execution_count": 3,
   "metadata": {},
   "outputs": [
    {
     "name": "stdout",
     "output_type": "stream",
     "text": [
      "[ 2  4  8 10 12]\n",
      "median:\n",
      "8.0\n"
     ]
    }
   ],
   "source": [
    "import numpy as np\n",
    "\n",
    "my_array = np.array([2,4,8,10,12])\n",
    "print(my_array)\n",
    "print(\"median:\")\n",
    "print(np.median(my_array))"
   ]
  },
  {
   "cell_type": "code",
   "execution_count": 4,
   "metadata": {},
   "outputs": [
    {
     "name": "stdout",
     "output_type": "stream",
     "text": [
      "[[18 15  8 15 17]\n",
      " [ 8  8  5  4  9]\n",
      " [11 12 14  2  6]]\n",
      "median:\n",
      "[15.  8. 11.]\n",
      "[11. 12.  8.  4.  9.]\n"
     ]
    }
   ],
   "source": [
    "import numpy as np\n",
    "\n",
    "my_array = np.random.randint(1,20, size = (3,5))\n",
    "print(my_array)\n",
    "print(\"median:\")\n",
    "print(np.median(my_array, axis = 1))\n",
    "print(np.median(my_array, axis = 0))"
   ]
  },
  {
   "cell_type": "markdown",
   "metadata": {},
   "source": [
    "### 4.1.3. Finding Max and Min Values"
   ]
  },
  {
   "cell_type": "code",
   "execution_count": 5,
   "metadata": {},
   "outputs": [
    {
     "name": "stdout",
     "output_type": "stream",
     "text": [
      "[ 2  4  8 10 12]\n",
      "min value:\n",
      "2\n"
     ]
    }
   ],
   "source": [
    "import numpy as np\n",
    "\n",
    "my_array = np.array([2,4,8,10,12])\n",
    "print(my_array)\n",
    "print(\"min value:\")\n",
    "print(np.amin(my_array))"
   ]
  },
  {
   "cell_type": "code",
   "execution_count": 6,
   "metadata": {},
   "outputs": [
    {
     "name": "stdout",
     "output_type": "stream",
     "text": [
      "[[15  7 18  6]\n",
      " [13 15 19 13]\n",
      " [ 1 11 17  2]]\n",
      "min:\n",
      "[ 6 13  1]\n",
      "[ 1  7 17  2]\n"
     ]
    }
   ],
   "source": [
    "import numpy as np\n",
    "\n",
    "my_array = np.random.randint(1,20, size = (3,4))\n",
    "print(my_array)\n",
    "print(\"min:\")\n",
    "print(np.amin(my_array, axis = 1))\n",
    "print(np.amin(my_array, axis = 0))"
   ]
  },
  {
   "cell_type": "code",
   "execution_count": 7,
   "metadata": {},
   "outputs": [
    {
     "name": "stdout",
     "output_type": "stream",
     "text": [
      "[ 2  4  8 10 12]\n",
      "max value:\n",
      "12\n"
     ]
    }
   ],
   "source": [
    "import numpy as np\n",
    "\n",
    "my_array = np.array([2,4,8,10,12])\n",
    "print(my_array)\n",
    "print(\"max value:\")\n",
    "print(np.amax(my_array))"
   ]
  },
  {
   "cell_type": "code",
   "execution_count": 8,
   "metadata": {},
   "outputs": [
    {
     "name": "stdout",
     "output_type": "stream",
     "text": [
      "[[17 14  9  7]\n",
      " [ 9 11 18  2]\n",
      " [18 12 14 16]]\n",
      "max:\n",
      "[17 18 18]\n",
      "[18 14 18 16]\n"
     ]
    }
   ],
   "source": [
    "import numpy as np\n",
    "\n",
    "my_array = np.random.randint(1,20, size = (3,4))\n",
    "print(my_array)\n",
    "print(\"max:\")\n",
    "print(np.amax(my_array, axis = 1))\n",
    "print(np.amax(my_array, axis = 0))"
   ]
  },
  {
   "cell_type": "markdown",
   "metadata": {},
   "source": [
    "### 4.1.4. Finding Standard Deviation"
   ]
  },
  {
   "cell_type": "code",
   "execution_count": 9,
   "metadata": {},
   "outputs": [
    {
     "name": "stdout",
     "output_type": "stream",
     "text": [
      "[ 2  4  8 10 12]\n",
      "std value:\n",
      "3.7094473981982814\n"
     ]
    }
   ],
   "source": [
    "import numpy as np\n",
    "\n",
    "my_array = np.array([2,4,8,10,12])\n",
    "print(my_array)\n",
    "print(\"std value:\")\n",
    "print(np.std(my_array))"
   ]
  },
  {
   "cell_type": "code",
   "execution_count": 10,
   "metadata": {},
   "outputs": [
    {
     "name": "stdout",
     "output_type": "stream",
     "text": [
      "[[16 13 16  8]\n",
      " [ 5 12  2  6]\n",
      " [14 12  4 11]]\n",
      "std-dev:\n",
      "[3.26917421 3.63145976 3.76662979]\n",
      "[4.78423336 0.47140452 6.18241233 2.05480467]\n"
     ]
    }
   ],
   "source": [
    "import numpy as np\n",
    "\n",
    "my_array = np.random.randint(1,20, size = (3,4))\n",
    "print(my_array)\n",
    "print(\"std-dev:\")\n",
    "print(np.std(my_array, axis = 1))\n",
    "print(np.std(my_array, axis = 0))"
   ]
  },
  {
   "cell_type": "markdown",
   "metadata": {},
   "source": [
    "### 4.1.5. Finding Correlations"
   ]
  },
  {
   "cell_type": "code",
   "execution_count": 11,
   "metadata": {},
   "outputs": [
    {
     "name": "stdout",
     "output_type": "stream",
     "text": [
      "[1.  3.  0.  0.9 1.2]\n",
      "[-1.   0.5  0.2  0.6  5. ]\n",
      "correlation value:\n",
      "[7.04]\n"
     ]
    }
   ],
   "source": [
    "import numpy as np\n",
    "\n",
    "a1 = np.array([1, 3, 0, 0.9, 1.2])\n",
    "a2 = np.array([-1, 0.5, 0.2, 0.6, 5])\n",
    "\n",
    "print(a1)\n",
    "print(a2)\n",
    "\n",
    "print(\"correlation value:\")\n",
    "print(np.correlate(a1, a2))"
   ]
  },
  {
   "cell_type": "markdown",
   "metadata": {},
   "source": [
    "## 4.2. Getting Unique Items and Counts"
   ]
  },
  {
   "cell_type": "code",
   "execution_count": 12,
   "metadata": {},
   "outputs": [
    {
     "name": "stdout",
     "output_type": "stream",
     "text": [
      "[1 3 4 5 6 7 8 9]\n"
     ]
    }
   ],
   "source": [
    "import numpy as np\n",
    "\n",
    "my_array  = np.array([5,8,7,5,9,3,7,7,1,1,8,4,6,9,7,3])\n",
    "unique_items = np.unique(my_array )\n",
    "\n",
    "print(unique_items)"
   ]
  },
  {
   "cell_type": "code",
   "execution_count": 13,
   "metadata": {},
   "outputs": [
    {
     "name": "stdout",
     "output_type": "stream",
     "text": [
      "[1 3 4 5 6 7 8 9]\n",
      "[2 2 1 2 1 4 2 2]\n"
     ]
    }
   ],
   "source": [
    "import numpy as np\n",
    "\n",
    "my_array  = np.array([5,8,7,5,9,3,7,7,1,1,8,4,6,9,7,3])\n",
    "unique_items, counts = np.unique(my_array, return_counts=True)\n",
    "\n",
    "print(unique_items)\n",
    "print(counts)\n",
    "\n"
   ]
  },
  {
   "cell_type": "code",
   "execution_count": 14,
   "metadata": {},
   "outputs": [
    {
     "name": "stdout",
     "output_type": "stream",
     "text": [
      "[[1 3 4 5 6 7 8 9]\n",
      " [2 2 1 2 1 4 2 2]]\n"
     ]
    }
   ],
   "source": [
    "frequencies = np.asarray((unique_items, counts))\n",
    "print(frequencies)"
   ]
  },
  {
   "cell_type": "code",
   "execution_count": 15,
   "metadata": {},
   "outputs": [
    {
     "name": "stdout",
     "output_type": "stream",
     "text": [
      "[[1 2]\n",
      " [3 2]\n",
      " [4 1]\n",
      " [5 2]\n",
      " [6 1]\n",
      " [7 4]\n",
      " [8 2]\n",
      " [9 2]]\n"
     ]
    }
   ],
   "source": [
    "frequencies = np.asarray((unique_items, counts)).T\n",
    "print(frequencies)"
   ]
  },
  {
   "cell_type": "markdown",
   "metadata": {},
   "source": [
    "## 4.3. Reversing a NumPy Array"
   ]
  },
  {
   "cell_type": "code",
   "execution_count": 16,
   "metadata": {},
   "outputs": [
    {
     "name": "stdout",
     "output_type": "stream",
     "text": [
      "original\n",
      "[ 2 12  7  1  6  7 18 14  2  1]\n",
      "reversed\n",
      "[ 1  2 14 18  7  6  1  7 12  2]\n"
     ]
    }
   ],
   "source": [
    "import numpy as np\n",
    "\n",
    "print(\"original\")\n",
    "my_array = np.random.randint(1,20,10)\n",
    "print(my_array)\n",
    "\n",
    "print(\"reversed\")\n",
    "reversed_array = np.flipud(my_array)\n",
    "print(reversed_array)"
   ]
  },
  {
   "cell_type": "code",
   "execution_count": 17,
   "metadata": {},
   "outputs": [
    {
     "name": "stdout",
     "output_type": "stream",
     "text": [
      "original\n",
      "[[10  3  4  3]\n",
      " [14 13 18 19]\n",
      " [ 2  5 11  1]]\n",
      "reversed\n",
      "[[ 3  4  3 10]\n",
      " [19 18 13 14]\n",
      " [ 1 11  5  2]]\n"
     ]
    }
   ],
   "source": [
    "import numpy as np\n",
    "\n",
    "print(\"original\")\n",
    "my_array = np.random.randint(1,20, size = (3,4))\n",
    "print(my_array)\n",
    "\n",
    "print(\"reversed\")\n",
    "reversed_array = np.fliplr(my_array)\n",
    "print(reversed_array)"
   ]
  },
  {
   "cell_type": "markdown",
   "metadata": {},
   "source": [
    "## 4.4. Importing and Exporting CSV Files"
   ]
  },
  {
   "cell_type": "markdown",
   "metadata": {},
   "source": [
    "### 4.4.1. Saving NumPy File as CSV"
   ]
  },
  {
   "cell_type": "code",
   "execution_count": 18,
   "metadata": {},
   "outputs": [
    {
     "name": "stdout",
     "output_type": "stream",
     "text": [
      "[[ 4 17  8 14]\n",
      " [ 9 18  4  4]\n",
      " [ 8  6  7  2]]\n"
     ]
    }
   ],
   "source": [
    "import numpy as np\n",
    "\n",
    "my_array = np.random.randint(1,20, size = (3,4))\n",
    "print(my_array)\n",
    "\n",
    "my_array.tofile('D:\\Datasets\\my_array.csv', sep = ',')"
   ]
  },
  {
   "cell_type": "code",
   "execution_count": 19,
   "metadata": {},
   "outputs": [
    {
     "name": "stdout",
     "output_type": "stream",
     "text": [
      "[[ 5  2  5  4]\n",
      " [16  3  3 16]\n",
      " [19 10 15  1]]\n"
     ]
    }
   ],
   "source": [
    "import numpy as np\n",
    "\n",
    "my_array = np.random.randint(1,20, size = (3,4))\n",
    "print(my_array)\n",
    "\n",
    "np.savetxt('D:\\Datasets\\my_array2.csv', my_array, delimiter = \",\")"
   ]
  },
  {
   "cell_type": "markdown",
   "metadata": {},
   "source": [
    "### 4.4.2. Loading a CSV File as a NumPy Array"
   ]
  },
  {
   "cell_type": "code",
   "execution_count": 20,
   "metadata": {},
   "outputs": [
    {
     "name": "stdout",
     "output_type": "stream",
     "text": [
      "[[ 5.  2.  5.  4.]\n",
      " [16.  3.  3. 16.]\n",
      " [19. 10. 15.  1.]]\n"
     ]
    }
   ],
   "source": [
    "import numpy as np\n",
    "\n",
    "loaded_array = np.genfromtxt('D:\\Datasets\\my_array2.csv', delimiter=',')\n",
    "print(loaded_array)"
   ]
  },
  {
   "cell_type": "markdown",
   "metadata": {},
   "source": [
    "## 4.5. Plotting NumPy Arrays with Matplotlib"
   ]
  },
  {
   "cell_type": "code",
   "execution_count": 21,
   "metadata": {},
   "outputs": [
    {
     "name": "stdout",
     "output_type": "stream",
     "text": [
      "[ 0.          1.05263158  2.10526316  3.15789474  4.21052632  5.26315789\n",
      "  6.31578947  7.36842105  8.42105263  9.47368421 10.52631579 11.57894737\n",
      " 12.63157895 13.68421053 14.73684211 15.78947368 16.84210526 17.89473684\n",
      " 18.94736842 20.        ]\n"
     ]
    },
    {
     "data": {
      "text/plain": [
       "[<matplotlib.lines.Line2D at 0x1be2a784550>]"
      ]
     },
     "execution_count": 21,
     "metadata": {},
     "output_type": "execute_result"
    },
    {
     "data": {
      "image/png": "[encoded data removed]",
      "text/plain": [
       "<Figure size 432x288 with 1 Axes>"
      ]
     },
     "metadata": {
      "needs_background": "light"
     },
     "output_type": "display_data"
    }
   ],
   "source": [
    "import numpy as np\n",
    "import matplotlib.pyplot as plt\n",
    "%matplotlib inline\n",
    "\n",
    "import matplotlib.pyplot as plt\n",
    "import numpy as np\n",
    "import math\n",
    "\n",
    "x_vals = np.linspace(0, 20, 20)\n",
    "print(x_vals)\n",
    "y_vals = [math.sqrt(i) for i in x_vals]\n",
    "plt.plot(x_vals, y_vals)"
   ]
  },
  {
   "cell_type": "code",
   "execution_count": 22,
   "metadata": {},
   "outputs": [
    {
     "data": {
      "text/plain": [
       "<matplotlib.legend.Legend at 0x1be2c83ee50>"
      ]
     },
     "execution_count": 22,
     "metadata": {},
     "output_type": "execute_result"
    },
    {
     "data": {
      "image/png": "[encoded data removed]",
      "text/plain": [
       "<Figure size 432x288 with 1 Axes>"
      ]
     },
     "metadata": {
      "needs_background": "light"
     },
     "output_type": "display_data"
    }
   ],
   "source": [
    "import matplotlib.pyplot as plt\n",
    "import numpy as np\n",
    "import math\n",
    "\n",
    "\n",
    "x_vals = np.linspace(0, 20, 20)\n",
    "y_vals = [math.sqrt(i) for i in x_vals]\n",
    "y2_vals = x_vals ** 3\n",
    "plt.xlabel('X Values')\n",
    "plt.ylabel('Y Values')\n",
    "plt.title('Square Roots')\n",
    "plt.plot(x_vals, y_vals, 'r', label = 'Square Root')\n",
    "plt.plot(x_vals, y2_vals, 'b', label = 'Cube')\n",
    "plt.legend(loc='upper center')"
   ]
  },
  {
   "cell_type": "code",
   "execution_count": 23,
   "metadata": {},
   "outputs": [
    {
     "name": "stdout",
     "output_type": "stream",
     "text": [
      "[[ 7 19 12  1]\n",
      " [ 8  2  2 14]\n",
      " [ 4  6  7 15]\n",
      " [15  3 17 17]]\n"
     ]
    },
    {
     "data": {
      "image/png": "[encoded data removed]",
      "text/plain": [
       "<Figure size 432x288 with 1 Axes>"
      ]
     },
     "metadata": {
      "needs_background": "light"
     },
     "output_type": "display_data"
    }
   ],
   "source": [
    "import numpy as np\n",
    "import matplotlib.pyplot as plt\n",
    "\n",
    "my_array = np.random.randint(1,20, size = (4,4))\n",
    "print(my_array)\n",
    "\n",
    "plt.imshow(my_array)\n",
    "plt.show()"
   ]
  },
  {
   "cell_type": "markdown",
   "metadata": {},
   "source": [
    "## Exercise 4.1\n",
    "\n",
    "\n",
    "**Question 1:**\n",
    "\n",
    "Which function is used to find mean accross columns in a two-dimensional NumPy array?\n",
    "\n",
    "A- np.mean(my_array, axis = 0)\n",
    "\n",
    "B- np.mean(my_array, axis = 1)\n",
    "\n",
    "C- np.mean(my_array, axis = 'col')\n",
    "\n",
    "D- np.mean(my_array, axis = 'c')\n",
    "\n",
    "Answer: B\n",
    "\n",
    "\n",
    "**Question 2:**\n",
    "\n",
    "Which function is used to save a find the frequency of each unique item in a NumPy array?\n",
    "\n",
    "A- np.unique(my_array, return_counts=1)\n",
    "\n",
    "B- np.unique(my_array, return_freq=1)\n",
    "\n",
    "C- np.unique(my_array, return_counts=True)\n",
    "\n",
    "D- np.unique(my_array, return_freq=True)\n",
    "\n",
    "\n",
    "Answer: C\n",
    "\n",
    "\n",
    "**Question 3:**\n",
    "\n",
    "Which of the following functions can be used to load a CSV file into a NumPy array:\n",
    "\n",
    "A- genfromtxt()\n",
    "\n",
    "B- loadtxt()\n",
    "\n",
    "C- loadtxt()\n",
    "\n",
    "D- genfromcsv()\n",
    "\n",
    "Answer: A"
   ]
  },
  {
   "cell_type": "markdown",
   "metadata": {},
   "source": [
    "## Exercise 4.2"
   ]
  },
  {
   "cell_type": "markdown",
   "metadata": {},
   "source": [
    "Generate a NumPy array of shape 5 x 7, containing random integers between 1 and 50. Find the mean, median, minimum and maximum values accross columns and rows. "
   ]
  },
  {
   "cell_type": "markdown",
   "metadata": {},
   "source": [
    "**Solution:**"
   ]
  },
  {
   "cell_type": "code",
   "execution_count": 24,
   "metadata": {},
   "outputs": [
    {
     "name": "stdout",
     "output_type": "stream",
     "text": [
      "Original\n",
      "[[17 20 45 46 16  6 26]\n",
      " [23  8 46 18 16 19  1]\n",
      " [43 27 32 17  8 31 38]\n",
      " [37 28 29 38 16 14 45]\n",
      " [36 32 37 36 49 17 35]]\n",
      "mean:\n",
      "[25.14285714 18.71428571 28.         29.57142857 34.57142857]\n",
      "[31.2 23.  37.8 31.  21.  17.4 29. ]\n",
      "median:\n",
      "[20. 18. 31. 29. 36.]\n",
      "[36. 27. 37. 36. 16. 17. 35.]\n",
      "min:\n",
      "[ 6  1  8 14 17]\n",
      "[17  8 29 17  8  6  1]\n",
      "max:\n",
      "[46 46 43 45 49]\n",
      "[43 32 46 46 49 31 45]\n"
     ]
    }
   ],
   "source": [
    "import numpy as np\n",
    "my_array = np.random.randint(1,50, size = (5,7))\n",
    "\n",
    "print(\"Original\")\n",
    "print(my_array)\n",
    "\n",
    "print(\"mean:\")\n",
    "print(np.mean(my_array, axis = 1))\n",
    "print(np.mean(my_array, axis = 0))\n",
    "\n",
    "print(\"median:\")\n",
    "print(np.median(my_array, axis = 1))\n",
    "print(np.median(my_array, axis = 0))\n",
    "\n",
    "print(\"min:\")\n",
    "print(np.amin(my_array, axis = 1))\n",
    "print(np.amin(my_array, axis = 0))\n",
    "\n",
    "print(\"max:\")\n",
    "print(np.amax(my_array, axis = 1))\n",
    "print(np.amax(my_array, axis = 0))"
   ]
  },
  {
   "cell_type": "code",
   "execution_count": null,
   "metadata": {},
   "outputs": [],
   "source": []
  }
 ],
 "metadata": {
  "kernelspec": {
   "display_name": "Python 3",
   "language": "python",
   "name": "python3"
  },
  "language_info": {
   "codemirror_mode": {
    "name": "ipython",
    "version": 3
   },
   "file_extension": ".py",
   "mimetype": "text/x-python",
   "name": "python",
   "nbconvert_exporter": "python",
   "pygments_lexer": "ipython3",
   "version": "3.8.5"
  }
 },
 "nbformat": 4,
 "nbformat_minor": 4
}
