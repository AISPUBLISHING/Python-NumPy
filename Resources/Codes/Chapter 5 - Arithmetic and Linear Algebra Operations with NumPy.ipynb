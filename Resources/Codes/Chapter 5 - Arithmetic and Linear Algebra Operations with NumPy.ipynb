{
 "cells": [
  {
   "cell_type": "markdown",
   "metadata": {},
   "source": [
    "## 5.1. Arithmetic Operations with NumPy"
   ]
  },
  {
   "cell_type": "markdown",
   "metadata": {},
   "source": [
    "### 5.1.1. Finding Square Roots"
   ]
  },
  {
   "cell_type": "code",
   "execution_count": 1,
   "metadata": {},
   "outputs": [
    {
     "name": "stdout",
     "output_type": "stream",
     "text": [
      "[3.16227766 4.47213595 5.47722558 6.32455532 7.07106781]\n"
     ]
    }
   ],
   "source": [
    "import numpy as np\n",
    "\n",
    "nums = [10,20,30,40,50]  \n",
    "np_sqr = np.sqrt(nums)  \n",
    "print(np_sqr) "
   ]
  },
  {
   "cell_type": "markdown",
   "metadata": {},
   "source": [
    "### 5.1.2.Finding Logs"
   ]
  },
  {
   "cell_type": "code",
   "execution_count": 2,
   "metadata": {},
   "outputs": [
    {
     "name": "stdout",
     "output_type": "stream",
     "text": [
      "[2.30258509 2.99573227 3.40119738 3.68887945 3.91202301]\n"
     ]
    }
   ],
   "source": [
    "import numpy as np\n",
    "\n",
    "nums = [10,20,30,40,50]  \n",
    "np_log = np.log(nums)  \n",
    "print(np_log )\n"
   ]
  },
  {
   "cell_type": "markdown",
   "metadata": {},
   "source": [
    "### 5.1.3. Finding Exponents"
   ]
  },
  {
   "cell_type": "code",
   "execution_count": 3,
   "metadata": {},
   "outputs": [
    {
     "name": "stdout",
     "output_type": "stream",
     "text": [
      "[2.20264658e+04 4.85165195e+08 1.06864746e+13 2.35385267e+17\n",
      " 5.18470553e+21]\n"
     ]
    }
   ],
   "source": [
    "import numpy as np\n",
    "\n",
    "nums = [10,20,30,40,50]  \n",
    "np_exp = np.exp(nums)  \n",
    "print(np_exp)  "
   ]
  },
  {
   "cell_type": "markdown",
   "metadata": {},
   "source": [
    "### 5.1.4. Finding Since and Cosine"
   ]
  },
  {
   "cell_type": "code",
   "execution_count": 4,
   "metadata": {},
   "outputs": [
    {
     "name": "stdout",
     "output_type": "stream",
     "text": [
      "[-0.54402111  0.91294525 -0.98803162  0.74511316 -0.26237485]\n",
      "[-0.83907153  0.40808206  0.15425145 -0.66693806  0.96496603]\n"
     ]
    }
   ],
   "source": [
    "import numpy as np\n",
    "\n",
    "nums = [10,20,30,40,50]  \n",
    "np_sine = np.sin(nums)  \n",
    "print(np_sine)  \n",
    " \n",
    "nums = [10,20,30,40,50]  \n",
    "np_cos = np.cos(nums)  \n",
    "print(np_cos)  "
   ]
  },
  {
   "cell_type": "markdown",
   "metadata": {},
   "source": [
    "## 5.2. Linear Algebra Operations with NumPy"
   ]
  },
  {
   "cell_type": "markdown",
   "metadata": {},
   "source": [
    "### 5.2.1. Finding Matrix Dot Product"
   ]
  },
  {
   "cell_type": "code",
   "execution_count": 5,
   "metadata": {},
   "outputs": [
    {
     "name": "stdout",
     "output_type": "stream",
     "text": [
      "[[-2.69338193 -1.61225935  0.61750607 -0.88609413]\n",
      " [ 1.94422502 -0.09992377  0.62015396  0.43694466]\n",
      " [-2.2216779   0.02529759  1.1457269  -0.2811504 ]\n",
      " [-0.019766   -4.56155475  0.52781149  1.94851995]]\n"
     ]
    }
   ],
   "source": [
    "import numpy as np\n",
    "\n",
    "A = np.random.randn(4,5)  \n",
    "B = np.random.randn(5,4)  \n",
    " \n",
    "Z =  np.dot(A,B)   \n",
    "print(Z)  \n"
   ]
  },
  {
   "cell_type": "markdown",
   "metadata": {},
   "source": [
    "### 5.2.2.\tElement-wise Matrix Multiplication"
   ]
  },
  {
   "cell_type": "code",
   "execution_count": 6,
   "metadata": {},
   "outputs": [
    {
     "name": "stdout",
     "output_type": "stream",
     "text": [
      "[[ 100  144  169]\n",
      " [2025 1024  256]\n",
      " [2025 1024  256]]\n"
     ]
    }
   ],
   "source": [
    "import numpy as np\n",
    "\n",
    "row1 = [10,12,13]  \n",
    "row2 = [45,32,16]  \n",
    "row3 = [45,32,16]  \n",
    " \n",
    "nums_2d = np.array([row1, row2, row3])  \n",
    "multiply = np.multiply(nums_2d, nums_2d)  \n",
    "print(multiply)\n"
   ]
  },
  {
   "cell_type": "markdown",
   "metadata": {},
   "source": [
    "### 5.2.3. Finding Matrix Inverse"
   ]
  },
  {
   "cell_type": "code",
   "execution_count": 7,
   "metadata": {},
   "outputs": [
    {
     "name": "stdout",
     "output_type": "stream",
     "text": [
      "[[ 0.70588235 -1.          0.58823529]\n",
      " [ 1.29411765 -1.          0.41176471]\n",
      " [-0.76470588  1.         -0.47058824]]\n"
     ]
    }
   ],
   "source": [
    "import numpy as np\n",
    "\n",
    "row1 = [1,2,3]  \n",
    "row2 = [5,2,8]  \n",
    "row3 = [9,1,10]  \n",
    " \n",
    "nums_2d = np.array([row1, row2, row3])  \n",
    " \n",
    "inverse = np.linalg.inv(nums_2d)  \n",
    "print(inverse)  "
   ]
  },
  {
   "cell_type": "markdown",
   "metadata": {},
   "source": [
    "### 5.2.4. Finding Matrix Determinant"
   ]
  },
  {
   "cell_type": "code",
   "execution_count": 8,
   "metadata": {},
   "outputs": [
    {
     "name": "stdout",
     "output_type": "stream",
     "text": [
      "17.0\n"
     ]
    }
   ],
   "source": [
    "import numpy as np\n",
    "\n",
    "row1 = [1,2,3]  \n",
    "row2 = [5,2,8]  \n",
    "row3 = [9,1,10]    \n",
    "    \n",
    "nums_2d = np.array([row1, row2, row3])    \n",
    "    \n",
    "determinant = np.linalg.det(nums_2d)    \n",
    "print(determinant)    "
   ]
  },
  {
   "cell_type": "markdown",
   "metadata": {},
   "source": [
    "### 5.2.5. Finding Matrix Trace"
   ]
  },
  {
   "cell_type": "code",
   "execution_count": 9,
   "metadata": {},
   "outputs": [
    {
     "name": "stdout",
     "output_type": "stream",
     "text": [
      "15\n"
     ]
    }
   ],
   "source": [
    "import numpy as np\n",
    "\n",
    "row1 = [1,2,3]  \n",
    "row2 = [4,5,6]  \n",
    "row3 = [7,8,9]  \n",
    "  \n",
    "nums_2d = np.array([row1, row2, row3])  \n",
    "  \n",
    "trace = np.trace(nums_2d)  \n",
    "print(trace)  "
   ]
  },
  {
   "cell_type": "markdown",
   "metadata": {},
   "source": [
    "### 5.2.6. Solving a System of Linear Equations with Python"
   ]
  },
  {
   "cell_type": "code",
   "execution_count": 10,
   "metadata": {},
   "outputs": [],
   "source": [
    "#two equations\n",
    "\n",
    "# 6x + 3y = 42\n",
    "# 2x + 4y = 32\n"
   ]
  },
  {
   "cell_type": "code",
   "execution_count": 11,
   "metadata": {},
   "outputs": [],
   "source": [
    "import numpy as np\n",
    "\n",
    "A = np.array([[6, 3],\n",
    "              [2, 4]])\n",
    "\n",
    "B = np.array([42, 32])\n",
    "             "
   ]
  },
  {
   "cell_type": "code",
   "execution_count": 12,
   "metadata": {},
   "outputs": [
    {
     "name": "stdout",
     "output_type": "stream",
     "text": [
      "[[ 0.22222222 -0.16666667]\n",
      " [-0.11111111  0.33333333]]\n"
     ]
    }
   ],
   "source": [
    "A_inv = np.linalg.inv(A)\n",
    "print(A_inv)"
   ]
  },
  {
   "cell_type": "code",
   "execution_count": 13,
   "metadata": {},
   "outputs": [
    {
     "name": "stdout",
     "output_type": "stream",
     "text": [
      "[4. 6.]\n"
     ]
    }
   ],
   "source": [
    "X = np.dot(A_inv, B)\n",
    "print(X)"
   ]
  },
  {
   "cell_type": "markdown",
   "metadata": {},
   "source": [
    "## Exercise 5.1\n",
    "\n",
    "\n",
    "**Question 1:**\n",
    "\n",
    "How to find the dot product between two numpy arrays A and B:?\n",
    "\n",
    "A- numpy.dot(A,B) \n",
    "\n",
    "B- A.dot(B) \n",
    "\n",
    "C- Both A and B\n",
    "\n",
    "D- None of the above\n",
    "\n",
    "Answer: C\n",
    "\n",
    "\n",
    "**Question 2:**\n",
    "\n",
    "How to find the determinant of a Matrix A?\n",
    "\n",
    "A- numpy.linalg.det(A)\n",
    "\n",
    "B- numpy.det(A)\n",
    "\n",
    "C- linalg.det(A)\n",
    "\n",
    "D- All of the above\n",
    "\n",
    "\n",
    "Answer: A\n",
    "\n",
    "\n",
    "**Question 3:**\n",
    "\n",
    "How to find the sine of a items in a NumPy array:\n",
    "\n",
    "A- numpy.sine() \n",
    "\n",
    "B- numpy.sin()  \n",
    "\n",
    "C- numpy.linalg.sin() \n",
    "\n",
    "D- None of the above\n",
    "\n",
    "Answer: B"
   ]
  },
  {
   "cell_type": "markdown",
   "metadata": {},
   "source": [
    "## Exercise 5.2"
   ]
  },
  {
   "cell_type": "markdown",
   "metadata": {},
   "source": [
    "Solve the following system of of three linear equations and find the values of variables x, y, and z:\n",
    "\n",
    "`3x + 4y + 2z = 17`\n",
    "\n",
    "`5x + 2y + 3z = 23`\n",
    "\n",
    "`4x + 3y + 2z = 19`\n",
    "\n"
   ]
  },
  {
   "cell_type": "markdown",
   "metadata": {},
   "source": [
    "**Solution:**"
   ]
  },
  {
   "cell_type": "code",
   "execution_count": 14,
   "metadata": {},
   "outputs": [
    {
     "name": "stdout",
     "output_type": "stream",
     "text": [
      "[3. 1. 2.]\n"
     ]
    }
   ],
   "source": [
    "import numpy as np\n",
    "\n",
    "A = np.array([[3, 4, 2],\n",
    "              [5, 2, 3],\n",
    "              [4, 3, 2]])\n",
    "\n",
    "B = np.array([17, 23, 19])\n",
    "\n",
    "\n",
    "X = np.linalg.inv(A).dot(B)\n",
    "print(X)"
   ]
  },
  {
   "cell_type": "code",
   "execution_count": null,
   "metadata": {},
   "outputs": [],
   "source": []
  }
 ],
 "metadata": {
  "kernelspec": {
   "display_name": "Python 3",
   "language": "python",
   "name": "python3"
  },
  "language_info": {
   "codemirror_mode": {
    "name": "ipython",
    "version": 3
   },
   "file_extension": ".py",
   "mimetype": "text/x-python",
   "name": "python",
   "nbconvert_exporter": "python",
   "pygments_lexer": "ipython3",
   "version": "3.8.5"
  }
 },
 "nbformat": 4,
 "nbformat_minor": 4
}
